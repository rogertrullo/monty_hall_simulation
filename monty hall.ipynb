{
 "cells": [
  {
   "cell_type": "code",
   "execution_count": 83,
   "metadata": {},
   "outputs": [
    {
     "name": "stdout",
     "output_type": "stream",
     "text": [
      "Populating the interactive namespace from numpy and matplotlib\n"
     ]
    }
   ],
   "source": [
    "import numpy as np\n",
    "import matplotlib.pyplot as plt\n",
    "%pylab inline"
   ]
  },
  {
   "cell_type": "code",
   "execution_count": 91,
   "metadata": {},
   "outputs": [
    {
     "name": "stdout",
     "output_type": "stream",
     "text": [
      "fraction of wins 0.6692\n"
     ]
    }
   ],
   "source": [
    "doors=['car','goat','goat']\n",
    "set_idx=set([0,1,2])\n",
    "\n",
    "SWITCH=True\n",
    "niters=10000\n",
    "\n",
    "\n",
    "cnt_wins=0\n",
    "cnt_losses=0\n",
    "for i in xrange(niters):\n",
    "    np.random.shuffle(doors)\n",
    "\n",
    "    my_choice=np.random.randint(0,3)\n",
    "\n",
    "    possible_open=set_idx-set([my_choice])#always 2 elements\n",
    "\n",
    "    flag_car_possible=False\n",
    "    for pos in possible_open:\n",
    "        \n",
    "        if doors[pos]=='car':\n",
    "            flag_car_possible=True\n",
    "            break\n",
    "\n",
    "    if flag_car_possible:#if car not chosen select the goat\n",
    "        showman_sel=list(possible_open-set([pos]))[0]\n",
    "    else:#car chosen select randomly\n",
    "        showman_sel=np.random.choice(list(possible_open))\n",
    "\n",
    "\n",
    "    if SWITCH:\n",
    "        my_choice=list(possible_open-set([showman_sel]))[0]\n",
    "\n",
    "    if doors[my_choice]=='car':\n",
    "        cnt_wins+=1\n",
    "    else:\n",
    "        cnt_losses+=1\n",
    "    \n",
    "print 'fraction of wins',float(cnt_wins)/niters\n"
   ]
  },
  {
   "cell_type": "code",
   "execution_count": 92,
   "metadata": {},
   "outputs": [
    {
     "data": {
      "image/png": "[encoded data removed]",
      "text/plain": [
       "<matplotlib.figure.Figure at 0x106bed450>"
      ]
     },
     "metadata": {},
     "output_type": "display_data"
    }
   ],
   "source": [
    "alphab = ['wins', 'losses']\n",
    "frequencies = [cnt_wins, cnt_losses]\n",
    "\n",
    "pos = np.arange(len(alphab))\n",
    "width = 0.5     # gives histogram aspect to the bar diagram\n",
    "ax = plt.axes()\n",
    "ax.set_xticks(pos)\n",
    "ax.set_xticklabels(alphab)\n",
    "\n",
    "plt.bar(pos, frequencies, width, color='r')\n",
    "plt.show()\n"
   ]
  },
  {
   "cell_type": "code",
   "execution_count": null,
   "metadata": {
    "collapsed": true
   },
   "outputs": [],
   "source": []
  }
 ],
 "metadata": {
  "kernelspec": {
   "display_name": "Python 2",
   "language": "python",
   "name": "python2"
  },
  "language_info": {
   "codemirror_mode": {
    "name": "ipython",
    "version": 2
   },
   "file_extension": ".py",
   "mimetype": "text/x-python",
   "name": "python",
   "nbconvert_exporter": "python",
   "pygments_lexer": "ipython2",
   "version": "2.7.10"
  }
 },
 "nbformat": 4,
 "nbformat_minor": 2
}
